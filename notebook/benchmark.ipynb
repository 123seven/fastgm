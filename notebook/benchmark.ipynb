{
 "cells": [
  {
   "cell_type": "code",
   "execution_count": 1,
   "metadata": {},
   "outputs": [],
   "source": [
    "from gmssl.sm4 import CryptSM4, SM4_ENCRYPT, SM4_DECRYPT\n",
    "from cryptography.hazmat.primitives.ciphers import Cipher, algorithms, modes\n",
    "from fastgm import SM4"
   ]
  },
  {
   "cell_type": "code",
   "execution_count": 2,
   "metadata": {},
   "outputs": [
    {
     "name": "stdout",
     "output_type": "stream",
     "text": [
      "299 µs ± 6.61 µs per loop (mean ± std. dev. of 7 runs, 1000 loops each)\n"
     ]
    }
   ],
   "source": [
    "%%timeit\n",
    "key = b'1' * 16\n",
    "value = b'helloworld' * 1024\n",
    "\n",
    "sm4 = SM4(key)\n",
    "sm4.decrypt_ecb(sm4.encrypt_ecb(value))"
   ]
  },
  {
   "cell_type": "code",
   "execution_count": 3,
   "metadata": {},
   "outputs": [
    {
     "name": "stdout",
     "output_type": "stream",
     "text": [
      "170 ms ± 1.22 ms per loop (mean ± std. dev. of 7 runs, 10 loops each)\n"
     ]
    }
   ],
   "source": [
    "%%timeit\n",
    "key = b'1' * 16\n",
    "value = b'helloworld' * 1024\n",
    "crypt_sm4 = CryptSM4()\n",
    "\n",
    "crypt_sm4.set_key(key, SM4_ENCRYPT)\n",
    "encrypt_value = crypt_sm4.crypt_ecb(value) #  bytes类型\n",
    "crypt_sm4.set_key(key, SM4_DECRYPT)\n",
    "decrypt_value = crypt_sm4.crypt_ecb(encrypt_value) #  bytes类型"
   ]
  },
  {
   "cell_type": "code",
   "execution_count": 4,
   "metadata": {},
   "outputs": [],
   "source": [
    "def zero_pad(data):\n",
    "    buf_len = len(data)\n",
    "    \n",
    "    if buf_len % 16 == 0:\n",
    "        return data\n",
    "    else:\n",
    "        new_len = (buf_len // 16 + 1) * 16\n",
    "        return data + b'\\0' * (new_len - buf_len)"
   ]
  },
  {
   "cell_type": "code",
   "execution_count": 5,
   "metadata": {},
   "outputs": [
    {
     "name": "stdout",
     "output_type": "stream",
     "text": [
      "283 µs ± 6.57 µs per loop (mean ± std. dev. of 7 runs, 1000 loops each)\n"
     ]
    }
   ],
   "source": [
    "%%timeit\n",
    "key = b'1' * 16\n",
    "value = b'helloworld' * 1024\n",
    "\n",
    "cipher = Cipher(algorithms.SM4(key), mode=modes.ECB())\n",
    "encryptor = cipher.encryptor()\n",
    "enc = encryptor.update(zero_pad(value)) + encryptor.finalize()\n",
    "\n",
    "cipher = Cipher(algorithms.SM4(key), mode=modes.ECB())\n",
    "decryptor = cipher.decryptor()\n",
    "\n",
    "dec = decryptor.update(zero_pad(enc)) + decryptor.finalize()"
   ]
  }
 ],
 "metadata": {
  "kernelspec": {
   "display_name": "Python 3",
   "language": "python",
   "name": "python3"
  },
  "language_info": {
   "codemirror_mode": {
    "name": "ipython",
    "version": 3
   },
   "file_extension": ".py",
   "mimetype": "text/x-python",
   "name": "python",
   "nbconvert_exporter": "python",
   "pygments_lexer": "ipython3",
   "version": "3.8.5"
  }
 },
 "nbformat": 4,
 "nbformat_minor": 4
}
